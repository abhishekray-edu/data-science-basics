{
 "cells": [
  {
   "cell_type": "code",
   "execution_count": 1,
   "id": "fae6b068-74f8-4312-9431-fbdc87db8fb6",
   "metadata": {},
   "outputs": [],
   "source": [
    "import pandas as pd"
   ]
  },
  {
   "cell_type": "markdown",
   "id": "3369b6ec-0712-4436-9c49-fa1d923f5627",
   "metadata": {},
   "source": [
    "Pandas Series is like a column in a table, but with labels (index) attached to each row.\n",
    "\n",
    "0    10\n",
    "\n",
    "1    20\n",
    "\n",
    "2    30\n",
    "\n",
    "dtype: int64"
   ]
  },
  {
   "cell_type": "markdown",
   "id": "92dbe959-4cf7-4992-b0b4-1ea4e1183bdc",
   "metadata": {},
   "source": [
    "# Panda Ser"
   ]
  },
  {
   "cell_type": "markdown",
   "id": "eede9663-d421-4645-9b97-c8781dc86da7",
   "metadata": {},
   "source": [
    "## How do we turn a Python list into a Series?"
   ]
  },
  {
   "cell_type": "code",
   "execution_count": 4,
   "id": "65e69e2e-b202-49f5-a7dd-2edbab020e20",
   "metadata": {},
   "outputs": [
    {
     "name": "stdout",
     "output_type": "stream",
     "text": [
      "0    1\n",
      "1    2\n",
      "2    3\n",
      "3    4\n",
      "4    5\n",
      "5    6\n",
      "dtype: int64\n"
     ]
    }
   ],
   "source": [
    "lst = [1,2,3,4,5,6]\n",
    "series = pd.Series(lst)\n",
    "print(series)"
   ]
  },
  {
   "cell_type": "markdown",
   "id": "83a09c23-0631-4121-a297-3510a141dfda",
   "metadata": {},
   "source": [
    "## How do I check what type this object is?"
   ]
  },
  {
   "cell_type": "code",
   "execution_count": 5,
   "id": "e15753f5-0ce5-4e4a-9c9f-739147115284",
   "metadata": {},
   "outputs": [
    {
     "name": "stdout",
     "output_type": "stream",
     "text": [
      "<class 'pandas.core.series.Series'>\n"
     ]
    }
   ],
   "source": [
    "print(type(series))"
   ]
  },
  {
   "cell_type": "markdown",
   "id": "d055e8d9-1e52-4541-b484-46a84d597b39",
   "metadata": {},
   "source": [
    "## Can I make a Series with nothing in it?"
   ]
  },
  {
   "cell_type": "code",
   "execution_count": 6,
   "id": "4a58679a-5287-42f9-beef-1a649204455a",
   "metadata": {},
   "outputs": [
    {
     "name": "stdout",
     "output_type": "stream",
     "text": [
      "Series([], dtype: object)\n"
     ]
    }
   ],
   "source": [
    "empty = pd.Series([])\n",
    "print(empty)"
   ]
  },
  {
   "cell_type": "markdown",
   "id": "3811e6ad-3426-4e4e-8fec-076501404ad6",
   "metadata": {},
   "source": [
    "## How do I label my Series instead of using 0,1,2...?"
   ]
  },
  {
   "cell_type": "code",
   "execution_count": 7,
   "id": "6ceb5722-5cff-4a9e-8776-a634138f8142",
   "metadata": {},
   "outputs": [
    {
     "name": "stdout",
     "output_type": "stream",
     "text": [
      "10    p\n",
      "11    q\n",
      "12    r\n",
      "13    s\n",
      "14    t\n",
      "dtype: object\n"
     ]
    }
   ],
   "source": [
    "a = pd.Series(['p', 'q', 'r', 's', 't'], index=[10,11,12,13,14])\n",
    "print(a)"
   ]
  },
  {
   "cell_type": "markdown",
   "id": "91cf76e7-bcb1-4bc5-acab-391c5fa446ae",
   "metadata": {},
   "source": [
    "##  How can I name the entire Series?"
   ]
  },
  {
   "cell_type": "code",
   "execution_count": 8,
   "id": "638ab1be-3066-4573-90f9-30004145e9b7",
   "metadata": {},
   "outputs": [
    {
     "name": "stdout",
     "output_type": "stream",
     "text": [
      "10    p\n",
      "11    q\n",
      "12    r\n",
      "13    s\n",
      "14    t\n",
      "Name: alphabets, dtype: object\n"
     ]
    }
   ],
   "source": [
    "b = pd.Series(['p','q','r','s','t'], index=[10,11,12,13,14], name='alphabets')\n",
    "print(b)"
   ]
  },
  {
   "cell_type": "markdown",
   "id": "09a81c10-ddc8-46e7-9965-3308549188fa",
   "metadata": {},
   "source": [
    "## How do I create a Series with just one value and let pandas assign the default index?"
   ]
  },
  {
   "cell_type": "code",
   "execution_count": 19,
   "id": "1b14853b-9ffc-42f2-af73-d0df9d3eb6c8",
   "metadata": {},
   "outputs": [
    {
     "name": "stdout",
     "output_type": "stream",
     "text": [
      "0    0.5\n",
      "dtype: float64\n"
     ]
    }
   ],
   "source": [
    "scalar_series = pd.Series(0.5)\n",
    "print(scalar_series)"
   ]
  },
  {
   "cell_type": "markdown",
   "id": "2449285e-ec50-4b3c-badf-78ee217e19b6",
   "metadata": {},
   "source": [
    "## Can I make a Series where one value is repeated?"
   ]
  },
  {
   "cell_type": "code",
   "execution_count": 9,
   "id": "450fe498-b0eb-4220-ae6d-c91450110a15",
   "metadata": {},
   "outputs": [
    {
     "name": "stdout",
     "output_type": "stream",
     "text": [
      "1    0.5\n",
      "2    0.5\n",
      "3    0.5\n",
      "dtype: float64\n"
     ]
    }
   ],
   "source": [
    "scalar_series = pd.Series(0.5, index=[1,2,3])\n",
    "print(scalar_series)"
   ]
  },
  {
   "cell_type": "markdown",
   "id": "7e3af955-883c-418a-957e-321c9f1784e0",
   "metadata": {},
   "source": [
    "# Pandas Series with Python Dictionary"
   ]
  },
  {
   "cell_type": "markdown",
   "id": "a31ac6fd-1753-4737-89d7-d06592691909",
   "metadata": {},
   "source": [
    "## How do I convert a dictionary into a Series?\n",
    "Keys become indexes\n",
    "\n",
    "Values become Series values"
   ]
  },
  {
   "cell_type": "code",
   "execution_count": 10,
   "id": "1aedcd1e-76f1-4766-83bc-41cfcd662559",
   "metadata": {},
   "outputs": [
    {
     "name": "stdout",
     "output_type": "stream",
     "text": [
      "p    1\n",
      "q    2\n",
      "r    3\n",
      "s    4\n",
      "t    5\n",
      "dtype: int64\n"
     ]
    }
   ],
   "source": [
    "dict_series = pd.Series({'p':1, 'q':2, 'r':3, 's':4, 't':5})\n",
    "print(dict_series)"
   ]
  },
  {
   "cell_type": "markdown",
   "id": "3e8fc088-a10c-4a03-a0df-1b2a7450b5c0",
   "metadata": {},
   "source": [
    "## How do I get the first value?"
   ]
  },
  {
   "cell_type": "code",
   "execution_count": 15,
   "id": "27ff9d09-ca40-4a52-a440-31fad3e11165",
   "metadata": {},
   "outputs": [
    {
     "data": {
      "text/plain": [
       "1"
      ]
     },
     "execution_count": 15,
     "metadata": {},
     "output_type": "execute_result"
    }
   ],
   "source": [
    "dict_series.iloc[0]"
   ]
  },
  {
   "cell_type": "markdown",
   "id": "821960fb-a963-4487-b570-3d4052ea5cea",
   "metadata": {},
   "source": [
    "## How do I get the value of index 's'?"
   ]
  },
  {
   "cell_type": "code",
   "execution_count": 16,
   "id": "b4a8940b-5bdf-4b51-b902-dc5a388af88d",
   "metadata": {},
   "outputs": [
    {
     "data": {
      "text/plain": [
       "4"
      ]
     },
     "execution_count": 16,
     "metadata": {},
     "output_type": "execute_result"
    }
   ],
   "source": [
    "dict_series['s']"
   ]
  },
  {
   "cell_type": "markdown",
   "id": "4c45ef7e-2125-49d4-9397-3a076dfe7486",
   "metadata": {},
   "source": [
    "## How do I slice the first three values?"
   ]
  },
  {
   "cell_type": "code",
   "execution_count": 13,
   "id": "b8334c4e-3511-40d1-a32d-e8e44df799ef",
   "metadata": {},
   "outputs": [
    {
     "data": {
      "text/plain": [
       "p    1\n",
       "q    2\n",
       "r    3\n",
       "dtype: int64"
      ]
     },
     "execution_count": 13,
     "metadata": {},
     "output_type": "execute_result"
    }
   ],
   "source": [
    "dict_series[0:3]"
   ]
  },
  {
   "cell_type": "markdown",
   "id": "4a933cf3-9f89-4e31-b9e1-69721eb6e6f3",
   "metadata": {},
   "source": [
    "## How can I find the maximum value in a Series?"
   ]
  },
  {
   "cell_type": "code",
   "execution_count": 17,
   "id": "23fd5bd8-456f-4a7d-a5a6-0bd6ad853f35",
   "metadata": {},
   "outputs": [
    {
     "data": {
      "text/plain": [
       "5"
      ]
     },
     "execution_count": 17,
     "metadata": {},
     "output_type": "execute_result"
    }
   ],
   "source": [
    "max(dict_series)"
   ]
  },
  {
   "cell_type": "markdown",
   "id": "5b8bad17-d2cc-498f-8595-21531ded22ca",
   "metadata": {},
   "source": [
    "## Can I store a list as a value in a Series?"
   ]
  },
  {
   "cell_type": "code",
   "execution_count": 18,
   "id": "e786bf79-7aab-430b-a8c6-c6ee87a45227",
   "metadata": {},
   "outputs": [
    {
     "name": "stdout",
     "output_type": "stream",
     "text": [
      "p    [1, 5, 6]\n",
      "q    [2, 6, 7]\n",
      "r    [3, 9, 0]\n",
      "s    [4, 4, 5]\n",
      "t    [5, 1, 2]\n",
      "dtype: object\n"
     ]
    }
   ],
   "source": [
    "dict_series = pd.Series({\n",
    "    'p': [1,5,6],\n",
    "    'q': [2,6,7],\n",
    "    'r': [3,9,0],\n",
    "    's': [4,4,5],\n",
    "    't': [5,1,2]\n",
    "})\n",
    "print(dict_series)"
   ]
  }
 ],
 "metadata": {
  "kernelspec": {
   "display_name": "Python [conda env:base] *",
   "language": "python",
   "name": "conda-base-py"
  },
  "language_info": {
   "codemirror_mode": {
    "name": "ipython",
    "version": 3
   },
   "file_extension": ".py",
   "mimetype": "text/x-python",
   "name": "python",
   "nbconvert_exporter": "python",
   "pygments_lexer": "ipython3",
   "version": "3.12.7"
  }
 },
 "nbformat": 4,
 "nbformat_minor": 5
}
