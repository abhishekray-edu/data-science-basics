{
 "cells": [
  {
   "cell_type": "markdown",
   "id": "39ce37ff-6e4b-438e-b919-4e71f0695ba0",
   "metadata": {},
   "source": [
    "### Syntax for empty, ones and zeros numpy functions\n",
    "np.function((rows,columns), dtype = datatype)"
   ]
  },
  {
   "cell_type": "markdown",
   "id": "e5cd50e8-f144-4a1f-9895-8c48c416301f",
   "metadata": {},
   "source": [
    "### How do I create a NumPy array with a given shape and type without initializing its values?"
   ]
  },
  {
   "cell_type": "code",
   "execution_count": 28,
   "id": "84447b90-9f04-4efd-bdcd-654e0bdd9223",
   "metadata": {},
   "outputs": [],
   "source": [
    "import numpy as np"
   ]
  },
  {
   "cell_type": "code",
   "execution_count": 29,
   "id": "ddfbd38d-4daf-420b-94d1-32c9b9d62493",
   "metadata": {},
   "outputs": [
    {
     "name": "stdout",
     "output_type": "stream",
     "text": [
      "[[0 0 0 0]\n",
      " [0 0 0 0]\n",
      " [0 0 0 0]]\n"
     ]
    }
   ],
   "source": [
    "a = np.empty((3,4), dtype = int)\n",
    "print(a)"
   ]
  },
  {
   "cell_type": "markdown",
   "id": "c0ef8a4d-8d7e-4e38-a3ab-7afb1e2cbd5d",
   "metadata": {},
   "source": [
    "### Why call it empty function when it is giving array with zero integer or sometimes even random integer?\n",
    "because we care about performance and we just want an array with this shape and data type while not caring about values inside it - just make it fast. Later, we are going to overwrite the values anyway."
   ]
  },
  {
   "cell_type": "markdown",
   "id": "41956f5c-5cde-4cff-bb6c-f144fb871185",
   "metadata": {},
   "source": [
    "### How do I create a NumPy array with a given shape and type and initializing each values with one?"
   ]
  },
  {
   "cell_type": "code",
   "execution_count": 30,
   "id": "434148d7-d506-4675-a89e-bb7b295ccd56",
   "metadata": {},
   "outputs": [
    {
     "name": "stdout",
     "output_type": "stream",
     "text": [
      "[[1 1 1 1]\n",
      " [1 1 1 1]\n",
      " [1 1 1 1]]\n"
     ]
    }
   ],
   "source": [
    "c = np.ones((3,4), dtype = int)\n",
    "print (c)"
   ]
  },
  {
   "cell_type": "markdown",
   "id": "bc16bf81-eaac-4e96-8ea4-e9918270b7d5",
   "metadata": {},
   "source": [
    "### How do I create a NumPy array with a given shape and type and initializing each values with zero?"
   ]
  },
  {
   "cell_type": "code",
   "execution_count": 31,
   "id": "fda1c188-9544-4081-9fa3-96f154996868",
   "metadata": {},
   "outputs": [
    {
     "name": "stdout",
     "output_type": "stream",
     "text": [
      "[[0 0 0 0]\n",
      " [0 0 0 0]\n",
      " [0 0 0 0]]\n"
     ]
    }
   ],
   "source": [
    "d = np.zeros((3,4), dtype = int)\n",
    "print(d)"
   ]
  },
  {
   "cell_type": "markdown",
   "id": "7b27dccb-527a-411d-b5de-8323e9eb2620",
   "metadata": {},
   "source": [
    "### In syntax, what happens when we don't specify the data type in zeros and ones function?\n",
    "float becomes default data type"
   ]
  },
  {
   "cell_type": "code",
   "execution_count": 32,
   "id": "0cb20540-51fc-479c-a92c-1b8b96710648",
   "metadata": {},
   "outputs": [
    {
     "name": "stdout",
     "output_type": "stream",
     "text": [
      "[[0. 0. 0. 0.]\n",
      " [0. 0. 0. 0.]\n",
      " [0. 0. 0. 0.]]\n"
     ]
    }
   ],
   "source": [
    "e = np.zeros((3,4))\n",
    "print(e)"
   ]
  },
  {
   "cell_type": "markdown",
   "id": "2d22fd95-c0bf-499f-bf9b-809afff1d8cf",
   "metadata": {},
   "source": [
    "### In syntax, what happens when we don't specify the data type as well as columns in zeros and ones function?\n",
    "float becomes default data type and it will create one dimensional simple array."
   ]
  },
  {
   "cell_type": "code",
   "execution_count": 33,
   "id": "91a31a78-e8e2-4771-902a-1ddf4619e0b3",
   "metadata": {},
   "outputs": [
    {
     "name": "stdout",
     "output_type": "stream",
     "text": [
      "[0. 0. 0.]\n"
     ]
    }
   ],
   "source": [
    "f = np.zeros(3)\n",
    "print(f)"
   ]
  },
  {
   "cell_type": "markdown",
   "id": "25ae86e9-a55f-4110-ad9a-b14657b39336",
   "metadata": {},
   "source": [
    "### How do I create a NumPy array of of certain dimension containing empty strings and '1' strings?\n",
    "by using str data type in np.zeros function and np.ones functions respectively. "
   ]
  },
  {
   "cell_type": "code",
   "execution_count": 34,
   "id": "e2523812-07af-4c88-986b-d5a86799dc34",
   "metadata": {},
   "outputs": [
    {
     "name": "stdout",
     "output_type": "stream",
     "text": [
      "[['' '' '' '']\n",
      " ['' '' '' '']\n",
      " ['' '' '' '']]\n"
     ]
    }
   ],
   "source": [
    "g = np.zeros((3,4), dtype = str)\n",
    "print(g)"
   ]
  },
  {
   "cell_type": "code",
   "execution_count": 35,
   "id": "21124e4d-f8d3-465d-a8d7-0e2802fccaaf",
   "metadata": {},
   "outputs": [
    {
     "name": "stdout",
     "output_type": "stream",
     "text": [
      "[['1' '1' '1' '1']\n",
      " ['1' '1' '1' '1']\n",
      " ['1' '1' '1' '1']]\n"
     ]
    }
   ],
   "source": [
    "h = np.ones((3,4), dtype = str)\n",
    "print(h)"
   ]
  },
  {
   "cell_type": "markdown",
   "id": "0f87828f-8623-40a4-8a8a-42399bec14c4",
   "metadata": {},
   "source": [
    "### How do I create a NumPy array of a certain dimension containing False and True boolean values?\n",
    "By using the bool data type in np.zeros() and np.ones() functions respectively."
   ]
  },
  {
   "cell_type": "code",
   "execution_count": 36,
   "id": "4c4c9c41-3301-4bce-9148-68f833c2168a",
   "metadata": {},
   "outputs": [
    {
     "name": "stdout",
     "output_type": "stream",
     "text": [
      "[[False False False False]\n",
      " [False False False False]\n",
      " [False False False False]]\n"
     ]
    }
   ],
   "source": [
    "i = np.zeros((3,4), dtype = bool)\n",
    "print(i)"
   ]
  },
  {
   "cell_type": "code",
   "execution_count": 37,
   "id": "b15190aa-89a7-41a9-8176-2125e5de3794",
   "metadata": {},
   "outputs": [
    {
     "name": "stdout",
     "output_type": "stream",
     "text": [
      "[[ True  True  True  True]\n",
      " [ True  True  True  True]\n",
      " [ True  True  True  True]]\n"
     ]
    }
   ],
   "source": [
    "j = np.ones((3,4), dtype = bool)\n",
    "print(j)"
   ]
  }
 ],
 "metadata": {
  "kernelspec": {
   "display_name": "Python [conda env:base] *",
   "language": "python",
   "name": "conda-base-py"
  },
  "language_info": {
   "codemirror_mode": {
    "name": "ipython",
    "version": 3
   },
   "file_extension": ".py",
   "mimetype": "text/x-python",
   "name": "python",
   "nbconvert_exporter": "python",
   "pygments_lexer": "ipython3",
   "version": "3.12.7"
  }
 },
 "nbformat": 4,
 "nbformat_minor": 5
}
