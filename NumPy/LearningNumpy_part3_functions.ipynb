{
 "cells": [
  {
   "cell_type": "markdown",
   "id": "4d84edfd-2a74-4c11-a926-bd71e6c7e18c",
   "metadata": {},
   "source": [
    "# SYNTAX for arange function in numpy.\n",
    "np.arange(start, end, step) \n",
    "\n",
    "UNDER THE HOOD:\n",
    "\n",
    "np.arange([start,] stop[, step], dtype=None)\n",
    "\n",
    "start and step are optional"
   ]
  },
  {
   "cell_type": "code",
   "execution_count": 2,
   "id": "52b678e3-2c8d-4ba4-8644-3275958dfe5d",
   "metadata": {},
   "outputs": [],
   "source": [
    "import numpy as np"
   ]
  },
  {
   "cell_type": "markdown",
   "id": "7ec82d74-b75a-4509-b547-15935391d0c6",
   "metadata": {},
   "source": [
    "## How do I store values from 0 to 9 in a 1D array?"
   ]
  },
  {
   "cell_type": "code",
   "execution_count": 10,
   "id": "7048a172-8bfd-4ce6-9f57-e62f68414880",
   "metadata": {},
   "outputs": [
    {
     "name": "stdout",
     "output_type": "stream",
     "text": [
      "[0 1 2 3 4 5 6 7 8 9]\n"
     ]
    }
   ],
   "source": [
    "a = np.arange(10)\n",
    "print(a)"
   ]
  },
  {
   "cell_type": "markdown",
   "id": "703aefe0-d5b6-4ad0-b378-5497f9904a35",
   "metadata": {},
   "source": [
    "## How do I store values from 1 to 10?"
   ]
  },
  {
   "cell_type": "code",
   "execution_count": 9,
   "id": "36337de1-c2f9-453b-a723-109c1219a628",
   "metadata": {},
   "outputs": [
    {
     "name": "stdout",
     "output_type": "stream",
     "text": [
      "[ 1  2  3  4  5  6  7  8  9 10]\n"
     ]
    }
   ],
   "source": [
    "a = np.arange(1,11)\n",
    "print(a)"
   ]
  },
  {
   "cell_type": "markdown",
   "id": "053e2e38-a201-4022-859c-40493f591026",
   "metadata": {},
   "source": [
    "## How do I create an array of even numbers from 0 to 10?"
   ]
  },
  {
   "cell_type": "code",
   "execution_count": 11,
   "id": "764d0c09-fc5a-4e20-8240-9d6b6f2a8a47",
   "metadata": {},
   "outputs": [
    {
     "name": "stdout",
     "output_type": "stream",
     "text": [
      "[ 0  2  4  6  8 10]\n"
     ]
    }
   ],
   "source": [
    "a = np.arange(0,11,2)\n",
    "print(a)"
   ]
  },
  {
   "cell_type": "markdown",
   "id": "8559b35f-5018-440f-b622-9510aa97b567",
   "metadata": {},
   "source": [
    "## How do I create an array of odd numbers from 1 to 9?"
   ]
  },
  {
   "cell_type": "code",
   "execution_count": 12,
   "id": "229d4b27-f98c-4ca6-ada0-7a5a719510d4",
   "metadata": {},
   "outputs": [
    {
     "name": "stdout",
     "output_type": "stream",
     "text": [
      "[1 3 5 7 9]\n"
     ]
    }
   ],
   "source": [
    "a = np.arange(1,10,2)\n",
    "print(a)"
   ]
  },
  {
   "cell_type": "markdown",
   "id": "9c33bb35-5291-43c2-b5b5-40cfaa8f7512",
   "metadata": {},
   "source": [
    "## How do I store multiples of 3 from 3 to 30?"
   ]
  },
  {
   "cell_type": "code",
   "execution_count": 13,
   "id": "1f4a2e39-f057-447a-aae5-78693aa8d268",
   "metadata": {},
   "outputs": [
    {
     "name": "stdout",
     "output_type": "stream",
     "text": [
      "[ 3  6  9 12 15 18 21 24 27 30]\n"
     ]
    }
   ],
   "source": [
    "a = np.arange(3,31,3)\n",
    "print(a)"
   ]
  },
  {
   "cell_type": "markdown",
   "id": "2a004735-1201-45c8-ab11-cf0fef21f73b",
   "metadata": {},
   "source": [
    "## How do I create a descending array from 10 to 1?"
   ]
  },
  {
   "cell_type": "code",
   "execution_count": 14,
   "id": "64fde975-d749-4c8d-97c6-f8886ebafe36",
   "metadata": {},
   "outputs": [
    {
     "name": "stdout",
     "output_type": "stream",
     "text": [
      "[10  9  8  7  6  5  4  3  2  1]\n"
     ]
    }
   ],
   "source": [
    "a = np.arange(10, 0, -1)\n",
    "print(a)"
   ]
  },
  {
   "cell_type": "markdown",
   "id": "abbcafe5-4f36-45cc-8a7f-724f80a5f137",
   "metadata": {},
   "source": [
    "## How do I create an array from 100 to 10 in steps of -10?"
   ]
  },
  {
   "cell_type": "code",
   "execution_count": 17,
   "id": "a2fefec7-15e2-47c4-a902-7526ff9cc952",
   "metadata": {},
   "outputs": [
    {
     "name": "stdout",
     "output_type": "stream",
     "text": [
      "[100  90  80  70  60  50  40  30  20  10]\n"
     ]
    }
   ],
   "source": [
    "a = np.arange(100,9,-10)\n",
    "print(a)"
   ]
  },
  {
   "cell_type": "markdown",
   "id": "166b7ed0-cb1c-4f44-96c6-f15a73ce0c73",
   "metadata": {},
   "source": [
    "## How do I create values from 0 to 1 with step size 0.2?"
   ]
  },
  {
   "cell_type": "code",
   "execution_count": 19,
   "id": "513e0b1b-586c-4142-bfb8-8337c7148ca5",
   "metadata": {},
   "outputs": [
    {
     "name": "stdout",
     "output_type": "stream",
     "text": [
      "[0.  0.2 0.4 0.6 0.8 1. ]\n"
     ]
    }
   ],
   "source": [
    "a = np.arange(0,1.1,0.2)\n",
    "print(a)"
   ]
  },
  {
   "cell_type": "markdown",
   "id": "e88ecb98-e984-4845-8191-b7a1a0c55ae9",
   "metadata": {},
   "source": [
    "## How do I create decimal values from 5.5 to 10 with a step of 0.5?"
   ]
  },
  {
   "cell_type": "code",
   "execution_count": 20,
   "id": "f183c94a-12a4-4a0c-90bf-3adf29bb23cf",
   "metadata": {},
   "outputs": [
    {
     "name": "stdout",
     "output_type": "stream",
     "text": [
      "[ 5.5  6.   6.5  7.   7.5  8.   8.5  9.   9.5 10. ]\n"
     ]
    }
   ],
   "source": [
    "a = np.arange(5.5, 10.1, 0.5)\n",
    "print(a)"
   ]
  },
  {
   "cell_type": "markdown",
   "id": "7cd141e5-c692-4e91-91bf-b94eeb1c8b21",
   "metadata": {},
   "source": [
    "## How do I create an array of float numbers from 1 to 5?"
   ]
  },
  {
   "cell_type": "code",
   "execution_count": 21,
   "id": "21856f57-2ac8-4565-b33f-44970591368a",
   "metadata": {},
   "outputs": [
    {
     "name": "stdout",
     "output_type": "stream",
     "text": [
      "[1. 2. 3. 4. 5.]\n"
     ]
    }
   ],
   "source": [
    "a = np.arange(1,6, dtype = float)\n",
    "print(a)"
   ]
  },
  {
   "cell_type": "markdown",
   "id": "debb7fd7-eae9-47b1-ac0c-33e435705230",
   "metadata": {},
   "source": [
    "# SYNTAX for reshape and flatten function."
   ]
  },
  {
   "cell_type": "raw",
   "id": "ea6c943f-061e-46d2-8c01-0bcaca69487b",
   "metadata": {},
   "source": [
    "a.reshape((rows,columns))\n",
    "a.flatten()"
   ]
  },
  {
   "cell_type": "markdown",
   "id": "47f815fb-8fd5-4504-aef5-a1751181b1e4",
   "metadata": {},
   "source": [
    "## How do I convert a 1D array of 6 elements into a 2×3 matrix?"
   ]
  },
  {
   "cell_type": "code",
   "execution_count": 24,
   "id": "ec174f07-666d-4e8c-873f-ab7f7d00dd76",
   "metadata": {},
   "outputs": [
    {
     "name": "stdout",
     "output_type": "stream",
     "text": [
      "[[1 2 3]\n",
      " [4 5 6]]\n"
     ]
    }
   ],
   "source": [
    "a = np.array([1,2,3,4,5,6])\n",
    "a = a.reshape(2, 3)\n",
    "print (a)"
   ]
  },
  {
   "cell_type": "markdown",
   "id": "5eba1028-2619-4c17-8435-32556c535a04",
   "metadata": {},
   "source": [
    " ## How do I reshape a 3×3 matrix into a 1D array?"
   ]
  },
  {
   "cell_type": "code",
   "execution_count": 32,
   "id": "6c7b5702-5d4f-4cf9-9b1b-212b6fb2efcb",
   "metadata": {},
   "outputs": [
    {
     "name": "stdout",
     "output_type": "stream",
     "text": [
      "[1 2 3 4 5 6 7 8 9]\n"
     ]
    }
   ],
   "source": [
    "a = np.array([[1,2,3],\n",
    "              [4,5,6],\n",
    "              [7,8,9]])\n",
    "b = a.flatten()\n",
    "print (b)"
   ]
  },
  {
   "cell_type": "markdown",
   "id": "0162ff8b-a235-40ea-af2b-91d2f3db6907",
   "metadata": {},
   "source": [
    " ## How do I reshape a 3×3 matrix into a 1D array by reference?\n"
   ]
  },
  {
   "cell_type": "raw",
   "id": "32de2a54-7726-4b35-ae78-464212fa92bd",
   "metadata": {},
   "source": [
    "changing ele"
   ]
  },
  {
   "cell_type": "code",
   "execution_count": 30,
   "id": "f4aad098-e88c-434b-8f42-a6e825fc90bc",
   "metadata": {},
   "outputs": [
    {
     "name": "stdout",
     "output_type": "stream",
     "text": [
      "[1 2 3 4 5 6 7 8 9]\n"
     ]
    }
   ],
   "source": [
    "a = np.array([[1,2,3],\n",
    "              [4,5,6],\n",
    "              [7,8,9]])\n",
    "b = a.ravel()\n",
    "print(b)"
   ]
  }
 ],
 "metadata": {
  "kernelspec": {
   "display_name": "Python [conda env:base] *",
   "language": "python",
   "name": "conda-base-py"
  },
  "language_info": {
   "codemirror_mode": {
    "name": "ipython",
    "version": 3
   },
   "file_extension": ".py",
   "mimetype": "text/x-python",
   "name": "python",
   "nbconvert_exporter": "python",
   "pygments_lexer": "ipython3",
   "version": "3.12.7"
  }
 },
 "nbformat": 4,
 "nbformat_minor": 5
}
