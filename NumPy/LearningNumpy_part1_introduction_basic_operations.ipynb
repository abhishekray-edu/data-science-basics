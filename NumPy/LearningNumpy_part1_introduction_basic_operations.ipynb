{
 "cells": [
  {
   "cell_type": "code",
   "execution_count": 1,
   "id": "05f69e83-e46c-46de-a670-2b0e0852088a",
   "metadata": {},
   "outputs": [],
   "source": [
    "import numpy as np"
   ]
  },
  {
   "cell_type": "markdown",
   "id": "79f4d341-810b-4701-b621-52e9595fd327",
   "metadata": {},
   "source": [
    "### Python list store only one dimentional array"
   ]
  },
  {
   "cell_type": "code",
   "execution_count": 2,
   "id": "0300c063-e70f-4abb-a305-ae49f04d8d98",
   "metadata": {},
   "outputs": [
    {
     "name": "stdout",
     "output_type": "stream",
     "text": [
      "[1, 2, 3, 4]\n"
     ]
    }
   ],
   "source": [
    "lst = [1,2,3,4]\n",
    "print(lst)"
   ]
  },
  {
   "cell_type": "markdown",
   "id": "c3e3f97b-0d09-4062-ab68-a58ea2916174",
   "metadata": {},
   "source": [
    "### Numpy array can have multiple dimension (1D, 2D, 3D)"
   ]
  },
  {
   "cell_type": "code",
   "execution_count": 10,
   "id": "d30648c4-635e-4a67-b7e3-2142498722f0",
   "metadata": {},
   "outputs": [
    {
     "name": "stdout",
     "output_type": "stream",
     "text": [
      "1D Array\n",
      "[1 2 3 4]\n"
     ]
    }
   ],
   "source": [
    "print('1D Array')\n",
    "a = np.array([1,2,3,4])\n",
    "print(a)"
   ]
  },
  {
   "cell_type": "code",
   "execution_count": 13,
   "id": "7c9c333c-c2b6-4e46-a322-6492ffc55660",
   "metadata": {},
   "outputs": [
    {
     "name": "stdout",
     "output_type": "stream",
     "text": [
      "2D Array: array of arrays\n",
      "[[1 2 3 4]\n",
      " [5 6 7 8]]\n"
     ]
    }
   ],
   "source": [
    "print('2D Array: array of arrays')\n",
    "b = np.array([[1,2,3,4],\n",
    "             [5,6,7,8]])\n",
    "print(b)"
   ]
  },
  {
   "cell_type": "code",
   "execution_count": 12,
   "id": "51c5396c-1e1d-4922-a6e9-63761a7ca00d",
   "metadata": {},
   "outputs": [
    {
     "name": "stdout",
     "output_type": "stream",
     "text": [
      "3D Array: array of array of arrays\n",
      "[[[ 1  2  3  4]\n",
      "  [ 5  6  7  8]]\n",
      "\n",
      " [[ 9 10 11 12]\n",
      "  [13 14 15 16]]]\n"
     ]
    }
   ],
   "source": [
    "print('3D Array:', 'array of array of arrays')\n",
    "c = np.array([[[1,2,3,4],[5,6,7,8]],\n",
    "             [[9,10,11,12],[13,14,15,16]]])\n",
    "print(c)"
   ]
  },
  {
   "cell_type": "markdown",
   "id": "848c0134-821e-4a9b-8684-c725481a858f",
   "metadata": {},
   "source": [
    "### How find the type of variable: a, b, c ?"
   ]
  },
  {
   "cell_type": "code",
   "execution_count": 14,
   "id": "98b3883f-94d1-4d63-a83b-3847b1c60901",
   "metadata": {},
   "outputs": [
    {
     "data": {
      "text/plain": [
       "numpy.ndarray"
      ]
     },
     "execution_count": 14,
     "metadata": {},
     "output_type": "execute_result"
    }
   ],
   "source": [
    "type(a)"
   ]
  },
  {
   "cell_type": "code",
   "execution_count": 15,
   "id": "6890dccf-d981-44b4-a9e9-16bb526c9469",
   "metadata": {},
   "outputs": [
    {
     "data": {
      "text/plain": [
       "numpy.ndarray"
      ]
     },
     "execution_count": 15,
     "metadata": {},
     "output_type": "execute_result"
    }
   ],
   "source": [
    "type(b)"
   ]
  },
  {
   "cell_type": "code",
   "execution_count": 16,
   "id": "2155b1fa-7e05-4f8f-b5f3-2dec3202b4a6",
   "metadata": {},
   "outputs": [
    {
     "data": {
      "text/plain": [
       "numpy.ndarray"
      ]
     },
     "execution_count": 16,
     "metadata": {},
     "output_type": "execute_result"
    }
   ],
   "source": [
    "type(c)"
   ]
  },
  {
   "cell_type": "markdown",
   "id": "00078a6a-2737-43a9-bcd4-fa273dd59334",
   "metadata": {},
   "source": [
    "This means a, b, c are numpy arrays of ndarray class meaning N dimensional array. "
   ]
  },
  {
   "cell_type": "markdown",
   "id": "48ef17e1-4688-451e-9f2f-10fc7639ff13",
   "metadata": {},
   "source": [
    "### How find the structure (shape) of numpy array?"
   ]
  },
  {
   "cell_type": "code",
   "execution_count": 18,
   "id": "e4c35fec-cec3-433f-8f5c-29daf82519ab",
   "metadata": {},
   "outputs": [
    {
     "name": "stdout",
     "output_type": "stream",
     "text": [
      "(4,)\n",
      "(2, 4)\n",
      "(2, 2, 4)\n"
     ]
    }
   ],
   "source": [
    "print(a.shape)\n",
    "print(b.shape)\n",
    "print(c.shape)"
   ]
  },
  {
   "cell_type": "markdown",
   "id": "f580b7cf-5060-45ae-a4b9-6972f7b09cc6",
   "metadata": {},
   "source": [
    "a is an array containing 4 elements\n",
    "\n",
    "b is an array containing 2 arrays, each of them containing 4 elements\n",
    "\n",
    "c is an array containing 2 arrays, each of them containing 2 arrays, each of them containing 4 elements.\n",
    "\n",
    "c means two layers of (2,4) matrix.\n"
   ]
  },
  {
   "cell_type": "markdown",
   "id": "84cd4af0-e2be-4824-ae57-4de5a234295b",
   "metadata": {},
   "source": [
    "### How find total number of elements in numpy array?"
   ]
  },
  {
   "cell_type": "code",
   "execution_count": 17,
   "id": "c85afff0-ca9c-44f9-b30d-b6a582c6dbdd",
   "metadata": {},
   "outputs": [
    {
     "name": "stdout",
     "output_type": "stream",
     "text": [
      "4\n",
      "8\n",
      "16\n"
     ]
    }
   ],
   "source": [
    "print(a.size)\n",
    "print(b.size)\n",
    "print(c.size)"
   ]
  },
  {
   "cell_type": "markdown",
   "id": "4067faa3-e967-4ef1-b9c3-8f8ae13c77d6",
   "metadata": {},
   "source": [
    "### How find the type of data present numpy array?"
   ]
  },
  {
   "cell_type": "code",
   "execution_count": 19,
   "id": "ab7cd392-e51b-4d5c-a106-c78a3576f97a",
   "metadata": {},
   "outputs": [
    {
     "name": "stdout",
     "output_type": "stream",
     "text": [
      "int64\n",
      "int64\n",
      "int64\n"
     ]
    }
   ],
   "source": [
    "print(a.dtype)\n",
    "print(b.dtype)\n",
    "print(c.dtype)"
   ]
  },
  {
   "cell_type": "markdown",
   "id": "afbbb6d7-a16e-4b8e-ad14-c2104fe06ac8",
   "metadata": {},
   "source": [
    "### How to transpose i.e. interchange rows and columns of matrix formed by 2D array?"
   ]
  },
  {
   "cell_type": "code",
   "execution_count": 24,
   "id": "ef31a601-b3e0-450d-892c-f87d27adb342",
   "metadata": {},
   "outputs": [
    {
     "name": "stdout",
     "output_type": "stream",
     "text": [
      "2D Array\n",
      "[[1 2 3 4]\n",
      " [5 6 7 8]]\n",
      "\n",
      "Transpose\n",
      "[[1 5]\n",
      " [2 6]\n",
      " [3 7]\n",
      " [4 8]]\n"
     ]
    }
   ],
   "source": [
    "print('2D Array')\n",
    "d = np.array([[1,2,3,4],\n",
    "             [5,6,7,8]])\n",
    "print(d)\n",
    "\n",
    "print()\n",
    "print('Transpose')\n",
    "print (d.transpose())"
   ]
  }
 ],
 "metadata": {
  "kernelspec": {
   "display_name": "Python [conda env:base] *",
   "language": "python",
   "name": "conda-base-py"
  },
  "language_info": {
   "codemirror_mode": {
    "name": "ipython",
    "version": 3
   },
   "file_extension": ".py",
   "mimetype": "text/x-python",
   "name": "python",
   "nbconvert_exporter": "python",
   "pygments_lexer": "ipython3",
   "version": "3.12.7"
  }
 },
 "nbformat": 4,
 "nbformat_minor": 5
}
